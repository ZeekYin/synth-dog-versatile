{
 "cells": [
  {
   "cell_type": "code",
   "execution_count": 1,
   "metadata": {},
   "outputs": [],
   "source": [
    "\n",
    "class TextReader:\n",
    "    def __init__(self, path, cache_size=2 ** 28, block_size=2 ** 20):\n",
    "        self.fp = open(path, \"r\", encoding=\"utf-8\")\n",
    "        self.length = 0\n",
    "        self.offsets = [0]\n",
    "        self.cache = OrderedDict()\n",
    "        self.cache_size = cache_size\n",
    "        self.block_size = block_size\n",
    "        self.bucket_size = cache_size // block_size\n",
    "        self.idx = 0\n",
    "\n",
    "        while True:\n",
    "            text = self.fp.read(self.block_size)\n",
    "            if not text:\n",
    "                break\n",
    "            self.length += len(text)\n",
    "            self.offsets.append(self.fp.tell())\n",
    "\n",
    "    def __len__(self):\n",
    "        return self.length\n",
    "\n",
    "    def __iter__(self):\n",
    "        return self\n",
    "\n",
    "    def __next__(self):\n",
    "        char = self.get()\n",
    "        self.next()\n",
    "        return char\n",
    "\n",
    "    def move(self, idx):\n",
    "        self.idx = idx\n",
    "\n",
    "    def next(self):\n",
    "        self.idx = (self.idx + 1) % self.length\n",
    "\n",
    "    def prev(self):\n",
    "        self.idx = (self.idx - 1) % self.length\n",
    "\n",
    "    def get(self):\n",
    "        key = self.idx // self.block_size\n",
    "\n",
    "        if key in self.cache:\n",
    "            text = self.cache[key]\n",
    "        else:\n",
    "            if len(self.cache) >= self.bucket_size:\n",
    "                self.cache.popitem(last=False)\n",
    "\n",
    "            offset = self.offsets[key]\n",
    "            self.fp.seek(offset, 0)\n",
    "            text = self.fp.read(self.block_size)\n",
    "            self.cache[key] = text\n",
    "\n",
    "        self.cache.move_to_end(key)\n",
    "        char = text[self.idx % self.block_size]\n",
    "        return char\n",
    "    \n",
    "    def move_to_line_by_random_position(self):\n",
    "\n",
    "        random_position = np.random.randint(self.length)  \n",
    "        self.fp.seek(random_position, 0) \n",
    "\n",
    "        # 向前扫描找到行头\n",
    "        while random_position > 0:\n",
    "            self.fp.seek(random_position - 1, 0)\n",
    "            char = self.fp.read(1)\n",
    "            if char == '\\n': \n",
    "                break\n",
    "            random_position -= 1\n",
    "        self.idx = random_position\n"
   ]
  },
  {
   "cell_type": "code",
   "execution_count": null,
   "metadata": {},
   "outputs": [
    {
     "name": "stdout",
     "output_type": "stream",
     "text": [
      "文件总长度: 41 字符\n",
      "随机定位到行: abcdefghij-10\n"
     ]
    }
   ],
   "source": [
    "from collections import OrderedDict\n",
    "import numpy as np\n",
    "\n",
    "# 初始化 TextReader\n",
    "reader = TextReader('./resources/corpus/test.txt')\n",
    "\n",
    "# 打印总长度\n",
    "print(f\"文件总长度: {len(reader)} 字符\")\n",
    "\n",
    "# 测试随机移动到某行\n",
    "reader.move_to_line_by_random_position()\n",
    "\n",
    "# 打印随机定位的内容\n",
    "start_idx = reader.idx\n"
   ]
  },
  {
   "cell_type": "code",
   "execution_count": null,
   "metadata": {},
   "outputs": [],
   "source": []
  }
 ],
 "metadata": {
  "kernelspec": {
   "display_name": "synthdog",
   "language": "python",
   "name": "python3"
  },
  "language_info": {
   "codemirror_mode": {
    "name": "ipython",
    "version": 3
   },
   "file_extension": ".py",
   "mimetype": "text/x-python",
   "name": "python",
   "nbconvert_exporter": "python",
   "pygments_lexer": "ipython3",
   "version": "3.9.21"
  }
 },
 "nbformat": 4,
 "nbformat_minor": 2
}
